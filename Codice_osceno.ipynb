{
  "cells": [
    {
      "cell_type": "markdown",
      "metadata": {
        "id": "n2TYIftliqUB"
      },
      "source": [
        "#**Unsupervised pre-training vs Data Augmentation**"
      ]
    },
    {
      "cell_type": "markdown",
      "metadata": {
        "id": "D48pgzTmjBVV"
      },
      "source": [
        "*Students:* --Valentina Barletta (Deep Learning) valentina.barletta@edu.unito.it --Sara De Benedetti (Reti Neurali) sara.debenedetti493@edu.unito.it"
      ]
    },
    {
      "cell_type": "code",
      "execution_count": 1,
      "metadata": {
        "id": "PF8bMBu7iZZK"
      },
      "outputs": [],
      "source": [
        "import torch\n",
        "from torch import nn\n",
        "from torch import optim\n",
        "import matplotlib.pyplot as plt\n",
        "import matplotlib.ticker as mtick\n",
        "import torchvision\n",
        "from statistics import mean"
      ]
    },
    {
      "cell_type": "code",
      "execution_count": 2,
      "metadata": {
        "colab": {
          "base_uri": "https://localhost:8080/"
        },
        "id": "1-7m_spxIFDt",
        "outputId": "889fb1a2-0b44-4bbe-fb9f-ba8577792ae6"
      },
      "outputs": [
        {
          "output_type": "stream",
          "name": "stdout",
          "text": [
            "cuda:0\n"
          ]
        }
      ],
      "source": [
        "device = torch.device(\"cuda:0\" if torch.cuda.is_available() else \"cpu\")\n",
        "\n",
        "print(device)                                        # Check which device we got"
      ]
    },
    {
      "cell_type": "code",
      "execution_count": 13,
      "metadata": {
        "id": "OAI7nqCWjlbK"
      },
      "outputs": [],
      "source": [
        "n_train = 8000\n",
        "n_test = 500\n",
        "\n",
        "batch_size_train = 300\n",
        "batch_size_test = n_test\n",
        "\n",
        "transform = torchvision.transforms.Compose([\n",
        "                               torchvision.transforms.ToTensor(),\n",
        "                               torchvision.transforms.Normalize(\n",
        "                                 (0.1307,), (0.3081,))\n",
        "                             ])\n",
        "\n",
        "## TEST SET\n",
        "\n",
        "dataset_test =  torchvision.datasets.MNIST('./files/', train=False, download=True, transform=transform)\n",
        "\n",
        "dataset_test.data, dataset_test.targets = dataset_test.data[n_train:(n_train + n_test)], dataset_test.targets[n_train:(n_train + n_test)]\n",
        "test_loader = torch.utils.data.DataLoader(dataset_test, batch_size = batch_size_test, shuffle = False)"
      ]
    },
    {
      "cell_type": "code",
      "source": [
        "len(dataset_test.data)"
      ],
      "metadata": {
        "colab": {
          "base_uri": "https://localhost:8080/"
        },
        "id": "vBLmv1SDb2FN",
        "outputId": "7c8fde17-4109-4bd1-8cee-077ff37ce68b"
      },
      "execution_count": 15,
      "outputs": [
        {
          "output_type": "execute_result",
          "data": {
            "text/plain": [
              "500"
            ]
          },
          "metadata": {},
          "execution_count": 15
        }
      ]
    },
    {
      "cell_type": "markdown",
      "metadata": {
        "id": "jGAJKwuaROS3"
      },
      "source": [
        "*Restore model used for unsupervised pre-training*"
      ]
    },
    {
      "cell_type": "code",
      "execution_count": 4,
      "metadata": {
        "id": "eBB8CdvriOMF"
      },
      "outputs": [],
      "source": [
        "def accuracy(y_pred, y):\n",
        "\n",
        "  pred = y_pred.detach().argmax(dim=1)\n",
        "  corrects = (pred == y)\n",
        "\n",
        "  accuracy = (corrects.sum()/corrects.size(0)).float()\n",
        "\n",
        "  return accuracy\n",
        "\n",
        "\n",
        "\n",
        "def evaluate(model, train_loader, test_loader):\n",
        "\n",
        "  # initialize the accuracy as 0\n",
        "\n",
        "  acc_train, acc_test = 0, 0\n",
        "\n",
        "  with torch.no_grad():\n",
        "\n",
        "    for x_train, y_train in train_loader:\n",
        "\n",
        "      x_train, y_train = x_train.to(device), y_train.to(device)        # remember that we need to load our data into the GPUs\n",
        "\n",
        "      out = model(x_train).squeeze()\n",
        "      acc_train += accuracy(out, y_train)\n",
        "\n",
        "    for x_test, y_test in test_loader:\n",
        "\n",
        "      x_test, y_test = x_test.to(device), y_test.to(device)\n",
        "\n",
        "      out = model(x_test).squeeze()\n",
        "      acc_test += accuracy(out, y_test)\n",
        "\n",
        "    acc_train, acc_test = acc_train / len(train_loader), acc_test / len(test_loader)\n",
        "\n",
        "  return float(acc_train.detach()) * 100, float(acc_test.detach()) * 100\n",
        "\n",
        "\n",
        "\n",
        "def train(model, x, y):\n",
        "\n",
        "  out = model(x)\n",
        "  loss = loss_function(out.squeeze(), y)\n",
        "\n",
        "  optimizer.zero_grad()\n",
        "  loss.backward()\n",
        "\n",
        "  optimizer.step()\n",
        "  return float(loss)"
      ]
    },
    {
      "cell_type": "code",
      "execution_count": 5,
      "metadata": {
        "id": "V6toXURRiWy3"
      },
      "outputs": [],
      "source": [
        "class EarlyStopping:\n",
        "  def __init__(self, patience=5, delta=0, verbose=False, path='checkpoint.pt'):\n",
        "    self.patience = patience       # Number of epochs to wait for improvement\n",
        "    self.delta = delta             # Minimum change in monitored metric to qualify as improvement\n",
        "    self.verbose = verbose         # If True, print a message when validation metric improves\n",
        "    self.path = path               # Path to save the model checkpoint\n",
        "    self.counter = 0               # Counter to track epochs without improvement\n",
        "    self.best_score = None         # Best validation metric achieved so far\n",
        "    self.early_stop = False        # Flag to indicate whether to stop training\n",
        "\n",
        "  def __call__(self, val_metric, model):\n",
        "    if self.best_score is None:\n",
        "      self.best_score = val_metric\n",
        "      self.save_checkpoint(model)\n",
        "    elif val_metric > self.best_score + self.delta:\n",
        "      self.counter += 1\n",
        "      if self.verbose:\n",
        "        print(f'Epochs without improvement: {self.counter}')\n",
        "      if self.counter >= self.patience:\n",
        "                self.early_stop = True\n",
        "    else:\n",
        "      self.best_score = val_metric\n",
        "      self.save_checkpoint(model)\n",
        "      self.counter = 0\n",
        "\n",
        "  def save_checkpoint(self, model):\n",
        "    torch.save(model.state_dict(), self.path)\n"
      ]
    },
    {
      "cell_type": "code",
      "execution_count": 6,
      "metadata": {
        "id": "LbIEre-0iWy3",
        "colab": {
          "base_uri": "https://localhost:8080/"
        },
        "outputId": "91a800f1-d2ca-40c5-9ecf-63f7e14d3237"
      },
      "outputs": [
        {
          "output_type": "stream",
          "name": "stdout",
          "text": [
            "mkdir: cannot create directory ‘/content/.checkpoints’: File exists\n"
          ]
        }
      ],
      "source": [
        "! mkdir /content/.checkpoints"
      ]
    },
    {
      "cell_type": "code",
      "execution_count": 7,
      "metadata": {
        "id": "4v6gakTDi6If"
      },
      "outputs": [],
      "source": [
        "input_dim = (28 * 28)\n",
        "hidden_dim = 10\n",
        "out_dim = 10\n",
        "\n",
        "MODEL_PATH = \"models/autoencoder/\"\n",
        "\n",
        "class Autoencoder(nn.Module):\n",
        "    def __init__(self, input_dim, out_dim):\n",
        "        super(Autoencoder, self).__init__()\n",
        "\n",
        "        # Encoder\n",
        "        self.encoder = nn.Sequential(nn.Conv2d(in_channels=1, out_channels=8, kernel_size=(3,3), stride=1, padding=1),  # 28 x 28 x 1 -> 28 x 28 x 8\n",
        "                                    nn.ReLU(),\n",
        "                                    nn.MaxPool2d(kernel_size=2, stride=2, padding=0),  # 28 x 28 x 8 -> 14 x 14 x 8\n",
        "                                    nn.Conv2d(8, 4, kernel_size=3, padding=1),  # 14 x 14 x 8 -> 14 x 14 x 4\n",
        "                                    nn.ReLU(),\n",
        "                                    nn.MaxPool2d(kernel_size=2, stride=2, padding=0)) # 14 x 14 x 4 -> 7 x 7 x 4\n",
        "\n",
        "\n",
        "        # Decoder\n",
        "        self.decoder = nn. Sequential(nn.Conv2d(4, 4, kernel_size=3, padding=1),  # 7 x 7 x 4 -> 7 x 7 x 4\n",
        "                                      nn.ReLU(),\n",
        "                                      nn.Upsample(scale_factor=2, mode='nearest'),  # 7 x 7 x 4 -> 14 x 14 x 4\n",
        "                                      nn.Conv2d(4, 8, kernel_size=3, padding=1),  # 14 x 14 x 4 -> 14 x 14 x 8\n",
        "                                      nn.ReLU(),\n",
        "                                      nn.Upsample(scale_factor=2, mode='nearest'),  # 14 x 14 x 8 -> 28 x 28 x 8\n",
        "                                      nn.Conv2d(8, 1, kernel_size=3, padding=1),  # 28 x 28 x 8 -> 28 x 28 x 1\n",
        "                                      nn.Sigmoid())  # Usa Sigmoid per ottenere valori tra 0 e 1\n",
        "\n",
        "    def forward(self, x):\n",
        "        encoded = self.encoder(x)\n",
        "        decoded = self.decoder(encoded)\n",
        "        return decoded\n",
        "\n",
        "\n",
        "model = Autoencoder(input_dim, out_dim).to(device)\n"
      ]
    },
    {
      "cell_type": "code",
      "execution_count": 8,
      "metadata": {
        "colab": {
          "base_uri": "https://localhost:8080/"
        },
        "id": "HfFa2l7VKh1Q",
        "outputId": "acc67e1e-01cc-41ab-ab76-7b6fe4a1086d"
      },
      "outputs": [
        {
          "output_type": "execute_result",
          "data": {
            "text/plain": [
              "<All keys matched successfully>"
            ]
          },
          "metadata": {},
          "execution_count": 8
        }
      ],
      "source": [
        "pretrained_autoencoder = model\n",
        "pretrained_autoencoder.load_state_dict(torch.load('model.pth'))\n",
        "# pretrained_autoencoder.eval()"
      ]
    },
    {
      "cell_type": "code",
      "execution_count": 9,
      "metadata": {
        "colab": {
          "base_uri": "https://localhost:8080/"
        },
        "id": "qAU1WDLVRNw_",
        "outputId": "cd383b28-4651-4e2d-c434-098c6c382487"
      },
      "outputs": [
        {
          "output_type": "stream",
          "name": "stdout",
          "text": [
            "----------------------------------------------------------------\n",
            "        Layer (type)               Output Shape         Param #\n",
            "================================================================\n",
            "            Conv2d-1            [-1, 8, 28, 28]              80\n",
            "              ReLU-2            [-1, 8, 28, 28]               0\n",
            "         MaxPool2d-3            [-1, 8, 14, 14]               0\n",
            "            Conv2d-4            [-1, 4, 14, 14]             292\n",
            "              ReLU-5            [-1, 4, 14, 14]               0\n",
            "         MaxPool2d-6              [-1, 4, 7, 7]               0\n",
            "            Conv2d-7              [-1, 4, 7, 7]             148\n",
            "              ReLU-8              [-1, 4, 7, 7]               0\n",
            "          Upsample-9            [-1, 4, 14, 14]               0\n",
            "           Conv2d-10            [-1, 8, 14, 14]             296\n",
            "             ReLU-11            [-1, 8, 14, 14]               0\n",
            "         Upsample-12            [-1, 8, 28, 28]               0\n",
            "           Conv2d-13            [-1, 1, 28, 28]              73\n",
            "          Sigmoid-14            [-1, 1, 28, 28]               0\n",
            "================================================================\n",
            "Total params: 889\n",
            "Trainable params: 889\n",
            "Non-trainable params: 0\n",
            "----------------------------------------------------------------\n",
            "Input size (MB): 0.00\n",
            "Forward/backward pass size (MB): 0.21\n",
            "Params size (MB): 0.00\n",
            "Estimated Total Size (MB): 0.22\n",
            "----------------------------------------------------------------\n"
          ]
        }
      ],
      "source": [
        "from torchsummary import summary\n",
        "\n",
        "# Usare la funzione summary per visualizzare un riassunto del modello\n",
        "summary(pretrained_autoencoder, input_size=(1, 28, 28))\n"
      ]
    },
    {
      "cell_type": "code",
      "execution_count": 10,
      "metadata": {
        "id": "EgqhEKWJTpQR"
      },
      "outputs": [],
      "source": [
        "class EncoderWithSoftmax(nn.Module):\n",
        "    def __init__(self, pretrained_autoencoder):\n",
        "        super(EncoderWithSoftmax, self).__init__()\n",
        "\n",
        "        # Estraggo l'encoder dal modello preaddestrato\n",
        "        encoder = pretrained_autoencoder.encoder\n",
        "\n",
        "        # Appplico il softmax come ultimo layer\n",
        "        self.encoder_with_softmax = nn.Sequential(\n",
        "            encoder,\n",
        "            nn.Flatten(),\n",
        "            nn.Linear(in_features = (4 * 7 * 7), out_features = 10),\n",
        "            nn.Softmax(dim = 1)  # Applica softmax lungo la dimensione 1\n",
        "        )\n",
        "\n",
        "\n",
        "    def forward(self, x):\n",
        "\n",
        "        x = self.encoder_with_softmax(x)\n",
        "        return x\n",
        "\n",
        "model = EncoderWithSoftmax(pretrained_autoencoder).to(device)\n",
        "loss_function = nn.CrossEntropyLoss()"
      ]
    },
    {
      "cell_type": "code",
      "execution_count": 16,
      "metadata": {
        "colab": {
          "base_uri": "https://localhost:8080/"
        },
        "id": "Hu1zpQ4OWh--",
        "outputId": "cf9d9547-0ea5-4aff-bece-bf28a4e39753"
      },
      "outputs": [
        {
          "output_type": "stream",
          "name": "stdout",
          "text": [
            "Epoch: 100 Loss: 1.7921144366264343 data: 666 train_acc 67.66666769981384 test_acc 61.2000048160553\n",
            "Epoch: 100 Loss: 1.7841205298900604 data: 1333 train_acc 67.33333468437195 test_acc 60.600000619888306\n",
            "Epoch: 100 Loss: 1.78602401415507 data: 2000 train_acc 67.55556464195251 test_acc 60.80000400543213\n",
            "Epoch: 100 Loss: 1.778942883014679 data: 2666 train_acc 68.08333992958069 test_acc 63.80000114440918\n",
            "Epoch: 100 Loss: 1.777022816918113 data: 3333 train_acc 68.30303072929382 test_acc 64.20000195503235\n",
            "Epoch: 100 Loss: 1.7721618872422438 data: 4000 train_acc 68.3846116065979 test_acc 65.00000357627869\n",
            "Epoch: 100 Loss: 1.7705705642700196 data: 4666 train_acc 68.86667609214783 test_acc 66.00000262260437\n",
            "Epoch: 100 Loss: 1.7667145448572494 data: 5333 train_acc 68.8235342502594 test_acc 66.40000343322754\n",
            "Epoch: 100 Loss: 1.7674008131027221 data: 6000 train_acc 69.0833330154419 test_acc 67.20000505447388\n",
            "Epoch: 100 Loss: 1.7672707655213096 data: 6666 train_acc 69.15152668952942 test_acc 67.60000586509705\n",
            "Epoch: 100 Loss: 1.7650716056426365 data: 7333 train_acc 69.31943893432617 test_acc 67.40000247955322\n"
          ]
        }
      ],
      "source": [
        "train_losses = []\n",
        "train_accuracies = []\n",
        "test_accuracies = []\n",
        "ratio = 12\n",
        "\n",
        "for i in range (1,ratio):\n",
        "\n",
        "    n_train_loop = int(n_train * i / ratio)\n",
        "    batch_size_train_loop = int(batch_size_train * i / ratio)\n",
        "    dataset_train =  torchvision.datasets.MNIST('./files/', train=False, download=True, transform=transform)\n",
        "    dataset_train.data, dataset_train.targets = dataset_train.data[:n_train_loop], dataset_train.targets[:n_train_loop]\n",
        "    train_loader = torch.utils.data.DataLoader(dataset_train, batch_size=batch_size_train, shuffle=True, drop_last=True)\n",
        "\n",
        "    EPOCHS = 101\n",
        "    learning_rate = 0.1\n",
        "    optimizer = torch.optim.SGD(model.parameters(), lr = learning_rate)\n",
        "    early_stopping = EarlyStopping(patience=4, verbose=True, path='/content/.checkpoints/model_checkpoint.pt')\n",
        "\n",
        "    #model = EncoderWithSoftmax(pretrained_autoencoder).to(device)\n",
        "\n",
        "    for epoch in range(1,EPOCHS):\n",
        "        train_loss = 0\n",
        "\n",
        "        for x_train, y_train in train_loader:\n",
        "            x_train, y_train = x_train.to(device), y_train.to(device)\n",
        "            loss = train(model, x_train, y_train)\n",
        "            train_loss += loss\n",
        "\n",
        "        train_loss /= len(train_loader)                    # we divide by the number of batches\n",
        "        train_losses.append(train_loss)\n",
        "\n",
        "    ## TEST STEP\n",
        "\n",
        "        if epoch % 100 == 0:\n",
        "            train_acc, test_acc = evaluate(model, train_loader, test_loader)\n",
        "            train_accuracies.append(train_acc)\n",
        "            test_accuracies.append(test_acc)\n",
        "            print(\"Epoch:\", epoch, \"Loss:\", float(train_loss), \"data:\", len(dataset_train.data), \"train_acc\", train_acc, \"test_acc\", test_acc)\n",
        "\n",
        "        if early_stopping.early_stop:\n",
        "            train_acc, test_acc = evaluate(model, train_loader, test_loader)\n",
        "            train_accuracies.append(train_acc)\n",
        "            test_accuracies.append(test_acc)\n",
        "            print(\"Early stopping triggered.\")\n",
        "            break"
      ]
    },
    {
      "cell_type": "code",
      "execution_count": null,
      "metadata": {
        "id": "cMyp3mjQWh-_",
        "outputId": "9c2ef0e4-c52f-4da5-9b95-d5b7a48e518b"
      },
      "outputs": [
        {
          "data": {
            "text/plain": [
              "11"
            ]
          },
          "execution_count": 40,
          "metadata": {},
          "output_type": "execute_result"
        }
      ],
      "source": [
        "len(test_accuracies)"
      ]
    },
    {
      "cell_type": "code",
      "execution_count": 17,
      "metadata": {
        "id": "rxFjGFZC3Wm-",
        "colab": {
          "base_uri": "https://localhost:8080/",
          "height": 449
        },
        "outputId": "ce774aba-1cbc-4039-c782-0c546a9e3f1c"
      },
      "outputs": [
        {
          "output_type": "display_data",
          "data": {
            "text/plain": [
              "<Figure size 640x480 with 1 Axes>"
            ],
            "image/png": "[encoded data removed]"
          },
          "metadata": {}
        }
      ],
      "source": [
        "data = [n_train * i/ratio for i in range(1, ratio)]\n",
        "\n",
        "plt.plot(data, train_accuracies, label = \"Train\")\n",
        "plt.plot(data, test_accuracies, label = \"Test\")\n",
        "\n",
        "plt.xlabel(\"Data\")\n",
        "plt.ylabel(\"Accuracy\")\n",
        "\n",
        "\n",
        "plt.legend()\n",
        "\n",
        "plt.show()"
      ]
    },
    {
      "cell_type": "code",
      "execution_count": 16,
      "metadata": {
        "colab": {
          "base_uri": "https://localhost:8080/"
        },
        "id": "9_shGteuw8Ky",
        "outputId": "00076ba7-87f4-4dfe-d7ba-2604e4d9cdaf"
      },
      "outputs": [
        {
          "output_type": "stream",
          "name": "stdout",
          "text": [
            "Epoch: 0 Loss: 1.654818594455719 train_acc: 81.00000619888306 test_acc: 76.8500030040741\n",
            "Epoch: 10 Loss: 1.6589344143867493 train_acc: 80.44445514678955 test_acc: 76.75000429153442\n",
            "Epoch: 20 Loss: 1.6550836165746052 train_acc: 80.83333373069763 test_acc: 76.80000066757202\n",
            "Epoch: 30 Loss: 1.652099847793579 train_acc: 80.83333373069763 test_acc: 76.8500030040741\n",
            "Epoch: 40 Loss: 1.6523290276527405 train_acc: 80.61110973358154 test_acc: 76.75000429153442\n",
            "Epoch: 50 Loss: 1.6509932676951091 train_acc: 80.61110973358154 test_acc: 76.80000066757202\n",
            "Epoch: 60 Loss: 1.6485671798388164 train_acc: 80.5555522441864 test_acc: 76.60000324249268\n",
            "Epoch: 70 Loss: 1.6448803544044495 train_acc: 81.27777576446533 test_acc: 76.45000219345093\n",
            "Epoch: 80 Loss: 1.654762824376424 train_acc: 80.83333373069763 test_acc: 76.5500009059906\n",
            "Epoch: 90 Loss: 1.6436495780944824 train_acc: 80.55555820465088 test_acc: 76.60000324249268\n"
          ]
        }
      ],
      "source": [
        "n_train = 2000\n",
        "n_test = 500\n",
        "\n",
        "batch_size_train = 300\n",
        "batch_size_test = n_test\n",
        "\n",
        "dataset_train.data, dataset_train.targets = dataset_train.data[:n_train], dataset_train.targets[:n_train]\n",
        "train_loader = torch.utils.data.DataLoader(dataset_train, batch_size = batch_size_train, shuffle = True,  drop_last = True)\n",
        "\n",
        "EPOCHS = 100\n",
        "\n",
        "train_losses = []\n",
        "train_accuracies = []\n",
        "test_accuracies = []\n",
        "\n",
        "learning_rate = 0.1\n",
        "optimizer = torch.optim.SGD(model.parameters(), lr = learning_rate)\n",
        "\n",
        "for epoch in range(EPOCHS):\n",
        "\n",
        "    train_loss = 0\n",
        "\n",
        "  ## TRAIN STEP\n",
        "\n",
        "    for x_train, y_train in train_loader:\n",
        "\n",
        "        x_train, y_train = x_train.to(device), y_train.to(device)\n",
        "        loss = train(model, x_train, y_train)\n",
        "        train_loss += loss\n",
        "\n",
        "    train_loss /= len(train_loader)                    # we divide by the number of batches\n",
        "    train_losses.append(train_loss)\n",
        "\n",
        "  ## TEST STEP\n",
        "\n",
        "    if epoch % 10 == 0:\n",
        "\n",
        "        train_acc, test_acc = evaluate(model, train_loader, test_loader)\n",
        "        train_accuracies.append(train_acc)\n",
        "        test_accuracies.append(test_acc)\n",
        "\n",
        "        print(\"Epoch:\", epoch, \"Loss:\", float(train_loss), \"train_acc:\", train_acc, \"test_acc:\", test_acc)\n"
      ]
    },
    {
      "cell_type": "code",
      "execution_count": 17,
      "metadata": {
        "colab": {
          "base_uri": "https://localhost:8080/",
          "height": 449
        },
        "id": "7Jpmuuflxacn",
        "outputId": "082817f6-9b76-4ad8-9391-d893c308b90d"
      },
      "outputs": [
        {
          "output_type": "display_data",
          "data": {
            "text/plain": [
              "<Figure size 640x480 with 1 Axes>"
            ],
            "image/png": "[encoded data removed]"
          },
          "metadata": {}
        }
      ],
      "source": [
        "epochs = [i*10 for i in range(EPOCHS//10)]\n",
        "\n",
        "plt.plot(epochs, train_accuracies, label = \"Train\")\n",
        "plt.plot(epochs, test_accuracies, label = \"Test\")\n",
        "\n",
        "plt.xlabel(\"Epochs\")\n",
        "plt.ylabel(\"Accuracy\")\n",
        "\n",
        "\n",
        "plt.legend()\n",
        "\n",
        "plt.show()"
      ]
    },
    {
      "cell_type": "code",
      "execution_count": null,
      "metadata": {
        "id": "7hQS5CmLWh_B"
      },
      "outputs": [],
      "source": []
    }
  ],
  "metadata": {
    "accelerator": "GPU",
    "colab": {
      "gpuType": "T4",
      "provenance": []
    },
    "kernelspec": {
      "display_name": "Python 3 (ipykernel)",
      "language": "python",
      "name": "python3"
    },
    "language_info": {
      "codemirror_mode": {
        "name": "ipython",
        "version": 3
      },
      "file_extension": ".py",
      "mimetype": "text/x-python",
      "name": "python",
      "nbconvert_exporter": "python",
      "pygments_lexer": "ipython3",
      "version": "3.9.7"
    }
  },
  "nbformat": 4,
  "nbformat_minor": 0
}