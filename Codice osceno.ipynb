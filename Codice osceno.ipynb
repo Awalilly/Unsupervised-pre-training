{
 "cells": [
  {
   "cell_type": "markdown",
   "metadata": {
    "id": "n2TYIftliqUB"
   },
   "source": [
    "#**Unsupervised pre-training vs Data Augmentation**"
   ]
  },
  {
   "cell_type": "markdown",
   "metadata": {
    "id": "D48pgzTmjBVV"
   },
   "source": [
    "*Students:* --Valentina Barletta (Deep Learning) valentina.barletta@edu.unito.it --Sara De Benedetti (Reti Neurali) sara.debenedetti493@edu.unito.it"
   ]
  },
  {
   "cell_type": "code",
   "execution_count": 1,
   "metadata": {
    "id": "PF8bMBu7iZZK"
   },
   "outputs": [],
   "source": [
    "import torch\n",
    "from torch import nn\n",
    "from torch import optim\n",
    "import matplotlib.pyplot as plt\n",
    "import matplotlib.ticker as mtick\n",
    "import torchvision\n",
    "from statistics import mean"
   ]
  },
  {
   "cell_type": "code",
   "execution_count": 2,
   "metadata": {
    "colab": {
     "base_uri": "https://localhost:8080/"
    },
    "id": "1-7m_spxIFDt",
    "outputId": "eaaa0ad4-7c27-4254-efe2-b092644f5fb0"
   },
   "outputs": [
    {
     "name": "stdout",
     "output_type": "stream",
     "text": [
      "cpu\n"
     ]
    }
   ],
   "source": [
    "device = torch.device(\"cuda:0\" if torch.cuda.is_available() else \"cpu\")\n",
    "\n",
    "print(device)                                        # Check which device we got"
   ]
  },
  {
   "cell_type": "code",
   "execution_count": 31,
   "metadata": {
    "id": "OAI7nqCWjlbK"
   },
   "outputs": [],
   "source": [
    "n_train = 8000\n",
    "n_test = 2000\n",
    "\n",
    "batch_size_train = 300\n",
    "batch_size_test = n_test\n",
    "\n",
    "transform = torchvision.transforms.Compose([\n",
    "                               torchvision.transforms.ToTensor(),\n",
    "                               torchvision.transforms.Normalize(\n",
    "                                 (0.1307,), (0.3081,))\n",
    "                             ])\n",
    "\n",
    "## TEST SET\n",
    "\n",
    "dataset =  torchvision.datasets.MNIST('./files/', train=False, download=True, transform=transform)\n",
    "dataset_test.data, dataset_test.targets = dataset.data[n_train:(n_train + n_test)], dataset.targets[n_train:(n_train + n_test)]\n",
    "test_loader = torch.utils.data.DataLoader(dataset_test, batch_size = batch_size_test, shuffle = False)"
   ]
  },
  {
   "cell_type": "markdown",
   "metadata": {
    "id": "jGAJKwuaROS3"
   },
   "source": [
    "*Restore model used for unsupervised pre-training*"
   ]
  },
  {
   "cell_type": "code",
   "execution_count": 4,
   "metadata": {
    "id": "eBB8CdvriOMF"
   },
   "outputs": [],
   "source": [
    "def accuracy(y_pred, y):\n",
    "\n",
    "  pred = y_pred.detach().argmax(dim=1)\n",
    "  corrects = (pred == y)\n",
    "\n",
    "  accuracy = (corrects.sum()/corrects.size(0)).float()\n",
    "\n",
    "  return accuracy\n",
    "\n",
    "\n",
    "\n",
    "def evaluate(model, train_loader, test_loader):\n",
    "\n",
    "  # initialize the accuracy as 0\n",
    "\n",
    "  acc_train, acc_test = 0, 0\n",
    "\n",
    "  with torch.no_grad():\n",
    "\n",
    "    for x_train, y_train in train_loader:\n",
    "\n",
    "      x_train, y_train = x_train.to(device), y_train.to(device)        # remember that we need to load our data into the GPUs\n",
    "\n",
    "      out = model(x_train).squeeze()\n",
    "      acc_train += accuracy(out, y_train)\n",
    "\n",
    "    for x_test, y_test in test_loader:\n",
    "\n",
    "      x_test, y_test = x_test.to(device), y_test.to(device)\n",
    "\n",
    "      out = model(x_test).squeeze()\n",
    "      acc_test += accuracy(out, y_test)\n",
    "\n",
    "    acc_train, acc_test = acc_train / len(train_loader), acc_test / len(test_loader)\n",
    "\n",
    "  return float(acc_train.detach()) * 100, float(acc_test.detach()) * 100\n",
    "\n",
    "\n",
    "\n",
    "def train(model, x, y):\n",
    "\n",
    "  out = model(x)\n",
    "  loss = loss_function(out.squeeze(), y)\n",
    "\n",
    "  optimizer.zero_grad()\n",
    "  loss.backward()\n",
    "\n",
    "  optimizer.step()\n",
    "  return float(loss)"
   ]
  },
  {
   "cell_type": "code",
   "execution_count": 5,
   "metadata": {
    "id": "V6toXURRiWy3"
   },
   "outputs": [],
   "source": [
    "class EarlyStopping:\n",
    "  def __init__(self, patience=5, delta=0, verbose=False, path='checkpoint.pt'):\n",
    "    self.patience = patience       # Number of epochs to wait for improvement\n",
    "    self.delta = delta             # Minimum change in monitored metric to qualify as improvement\n",
    "    self.verbose = verbose         # If True, print a message when validation metric improves\n",
    "    self.path = path               # Path to save the model checkpoint\n",
    "    self.counter = 0               # Counter to track epochs without improvement\n",
    "    self.best_score = None         # Best validation metric achieved so far\n",
    "    self.early_stop = False        # Flag to indicate whether to stop training\n",
    "\n",
    "  def __call__(self, val_metric, model):\n",
    "    if self.best_score is None:\n",
    "      self.best_score = val_metric\n",
    "      self.save_checkpoint(model)\n",
    "    elif val_metric > self.best_score + self.delta:\n",
    "      self.counter += 1\n",
    "      if self.verbose:\n",
    "        print(f'Epochs without improvement: {self.counter}')\n",
    "      if self.counter >= self.patience:\n",
    "                self.early_stop = True\n",
    "    else:\n",
    "      self.best_score = val_metric\n",
    "      self.save_checkpoint(model)\n",
    "      self.counter = 0\n",
    "\n",
    "  def save_checkpoint(self, model):\n",
    "    torch.save(model.state_dict(), self.path)\n"
   ]
  },
  {
   "cell_type": "code",
   "execution_count": 6,
   "metadata": {
    "id": "LbIEre-0iWy3"
   },
   "outputs": [
    {
     "name": "stderr",
     "output_type": "stream",
     "text": [
      "Sintassi del comando errata.\n"
     ]
    }
   ],
   "source": [
    "! mkdir /content/.checkpoints"
   ]
  },
  {
   "cell_type": "code",
   "execution_count": 6,
   "metadata": {
    "id": "4v6gakTDi6If"
   },
   "outputs": [],
   "source": [
    "input_dim = (28 * 28)\n",
    "hidden_dim = 10\n",
    "out_dim = 10\n",
    "\n",
    "MODEL_PATH = \"models/autoencoder/\"\n",
    "\n",
    "class Autoencoder(nn.Module):\n",
    "    def __init__(self, input_dim, out_dim):\n",
    "        super(Autoencoder, self).__init__()\n",
    "\n",
    "        # Encoder\n",
    "        self.encoder = nn.Sequential(nn.Conv2d(in_channels=1, out_channels=8, kernel_size=(3,3), stride=1, padding=1),  # 28 x 28 x 1 -> 28 x 28 x 8\n",
    "                                    nn.ReLU(),\n",
    "                                    nn.MaxPool2d(kernel_size=2, stride=2, padding=0),  # 28 x 28 x 8 -> 14 x 14 x 8\n",
    "                                    nn.Conv2d(8, 4, kernel_size=3, padding=1),  # 14 x 14 x 8 -> 14 x 14 x 4\n",
    "                                    nn.ReLU(),\n",
    "                                    nn.MaxPool2d(kernel_size=2, stride=2, padding=0)) # 14 x 14 x 4 -> 7 x 7 x 4\n",
    "\n",
    "\n",
    "        # Decoder\n",
    "        self.decoder = nn. Sequential(nn.Conv2d(4, 4, kernel_size=3, padding=1),  # 7 x 7 x 4 -> 7 x 7 x 4\n",
    "                                      nn.ReLU(),\n",
    "                                      nn.Upsample(scale_factor=2, mode='nearest'),  # 7 x 7 x 4 -> 14 x 14 x 4\n",
    "                                      nn.Conv2d(4, 8, kernel_size=3, padding=1),  # 14 x 14 x 4 -> 14 x 14 x 8\n",
    "                                      nn.ReLU(),\n",
    "                                      nn.Upsample(scale_factor=2, mode='nearest'),  # 14 x 14 x 8 -> 28 x 28 x 8\n",
    "                                      nn.Conv2d(8, 1, kernel_size=3, padding=1),  # 28 x 28 x 8 -> 28 x 28 x 1\n",
    "                                      nn.Sigmoid())  # Usa Sigmoid per ottenere valori tra 0 e 1\n",
    "\n",
    "    def forward(self, x):\n",
    "        encoded = self.encoder(x)\n",
    "        decoded = self.decoder(encoded)\n",
    "        return decoded\n",
    "\n",
    "\n",
    "model = Autoencoder(input_dim, out_dim).to(device)\n"
   ]
  },
  {
   "cell_type": "code",
   "execution_count": 7,
   "metadata": {
    "colab": {
     "base_uri": "https://localhost:8080/"
    },
    "id": "HfFa2l7VKh1Q",
    "outputId": "46106ae0-d440-43ac-93ac-3bb1ee7e8e84"
   },
   "outputs": [
    {
     "data": {
      "text/plain": [
       "<All keys matched successfully>"
      ]
     },
     "execution_count": 7,
     "metadata": {},
     "output_type": "execute_result"
    }
   ],
   "source": [
    "pretrained_autoencoder = model\n",
    "pretrained_autoencoder.load_state_dict(torch.load('model.pth'))\n",
    "# pretrained_autoencoder.eval()"
   ]
  },
  {
   "cell_type": "code",
   "execution_count": 9,
   "metadata": {
    "colab": {
     "base_uri": "https://localhost:8080/"
    },
    "id": "qAU1WDLVRNw_",
    "outputId": "98667de6-40ab-4363-bb3d-e70b10569cf5"
   },
   "outputs": [
    {
     "ename": "ModuleNotFoundError",
     "evalue": "No module named 'torchsummary'",
     "output_type": "error",
     "traceback": [
      "\u001b[1;31m---------------------------------------------------------------------------\u001b[0m",
      "\u001b[1;31mModuleNotFoundError\u001b[0m                       Traceback (most recent call last)",
      "\u001b[1;32m~\\AppData\\Local\\Temp/ipykernel_27064/2555031292.py\u001b[0m in \u001b[0;36m<module>\u001b[1;34m\u001b[0m\n\u001b[1;32m----> 1\u001b[1;33m \u001b[1;32mfrom\u001b[0m \u001b[0mtorchsummary\u001b[0m \u001b[1;32mimport\u001b[0m \u001b[0msummary\u001b[0m\u001b[1;33m\u001b[0m\u001b[1;33m\u001b[0m\u001b[0m\n\u001b[0m\u001b[0;32m      2\u001b[0m \u001b[1;33m\u001b[0m\u001b[0m\n\u001b[0;32m      3\u001b[0m \u001b[1;31m# Usare la funzione summary per visualizzare un riassunto del modello\u001b[0m\u001b[1;33m\u001b[0m\u001b[1;33m\u001b[0m\u001b[0m\n\u001b[0;32m      4\u001b[0m \u001b[0msummary\u001b[0m\u001b[1;33m(\u001b[0m\u001b[0mpretrained_autoencoder\u001b[0m\u001b[1;33m,\u001b[0m \u001b[0minput_size\u001b[0m\u001b[1;33m=\u001b[0m\u001b[1;33m(\u001b[0m\u001b[1;36m1\u001b[0m\u001b[1;33m,\u001b[0m \u001b[1;36m28\u001b[0m\u001b[1;33m,\u001b[0m \u001b[1;36m28\u001b[0m\u001b[1;33m)\u001b[0m\u001b[1;33m)\u001b[0m\u001b[1;33m\u001b[0m\u001b[1;33m\u001b[0m\u001b[0m\n",
      "\u001b[1;31mModuleNotFoundError\u001b[0m: No module named 'torchsummary'"
     ]
    }
   ],
   "source": [
    "from torchsummary import summary\n",
    "\n",
    "# Usare la funzione summary per visualizzare un riassunto del modello\n",
    "summary(pretrained_autoencoder, input_size=(1, 28, 28))\n"
   ]
  },
  {
   "cell_type": "code",
   "execution_count": 8,
   "metadata": {
    "id": "EgqhEKWJTpQR"
   },
   "outputs": [],
   "source": [
    "class EncoderWithSoftmax(nn.Module):\n",
    "    def __init__(self, pretrained_autoencoder):\n",
    "        super(EncoderWithSoftmax, self).__init__()\n",
    "\n",
    "        # Estraggo l'encoder dal modello preaddestrato\n",
    "        encoder = pretrained_autoencoder.encoder\n",
    "\n",
    "        # Appplico il softmax come ultimo layer\n",
    "        self.encoder_with_softmax = nn.Sequential(\n",
    "            encoder,\n",
    "            nn.Flatten(),\n",
    "            nn.Linear(in_features = (4 * 7 * 7), out_features = 10),\n",
    "            nn.Softmax(dim = 1)  # Applica softmax lungo la dimensione 1\n",
    "        )\n",
    "\n",
    "\n",
    "    def forward(self, x):\n",
    "\n",
    "        x = self.encoder_with_softmax(x)\n",
    "        return x\n",
    "\n",
    "model = EncoderWithSoftmax(pretrained_autoencoder).to(device)\n",
    "loss_function = nn.CrossEntropyLoss()"
   ]
  },
  {
   "cell_type": "code",
   "execution_count": 39,
   "metadata": {},
   "outputs": [
    {
     "name": "stdout",
     "output_type": "stream",
     "text": [
      "Epoch: 100 Loss: 2.3027617656267605 data: 666 train_acc 9.538460522890091 test_acc 10.750000178813934\n",
      "Epoch: 100 Loss: 2.302455324393052 data: 1333 train_acc 11.615384370088577 test_acc 9.700000286102295\n",
      "Epoch: 100 Loss: 2.302624381505526 data: 2000 train_acc 8.871794492006302 test_acc 8.449999988079071\n",
      "Epoch: 100 Loss: 2.3025761384230394 data: 2666 train_acc 10.807691514492035 test_acc 9.700000286102295\n",
      "Epoch: 100 Loss: 2.302482843399048 data: 3333 train_acc 11.323075741529465 test_acc 11.500000208616257\n",
      "Epoch: 100 Loss: 2.3025927543640137 data: 4000 train_acc 10.487178713083267 test_acc 9.89999994635582\n",
      "Epoch: 100 Loss: 2.2607810497283936 data: 4666 train_acc 19.29670423269272 test_acc 11.249999701976776\n",
      "Epoch: 100 Loss: 2.272595616487356 data: 5333 train_acc 17.230771481990814 test_acc 18.050000071525574\n",
      "Epoch: 100 Loss: 2.2995861860421987 data: 6000 train_acc 14.42735344171524 test_acc 17.000000178813934\n",
      "Epoch: 100 Loss: 2.3025941390257616 data: 6666 train_acc 11.400000005960464 test_acc 10.400000214576721\n",
      "Epoch: 100 Loss: 2.295624329493596 data: 7333 train_acc 12.783217430114746 test_acc 13.950000703334808\n"
     ]
    }
   ],
   "source": [
    "train_losses = []\n",
    "train_accuracies = []\n",
    "test_accuracies = []\n",
    "ratio = 12\n",
    "\n",
    "for i in range (1,ratio):\n",
    "\n",
    "    n_train_loop = int(n_train * i / ratio)\n",
    "    batch_size_train_loop = int(batch_size_train * i / ratio)\n",
    "    dataset_train.data, dataset_train.targets = dataset.data[:n_train_loop], dataset.targets[:n_train_loop]\n",
    "    train_loader = torch.utils.data.DataLoader(dataset_train, batch_size=batch_size_train_loop, shuffle=True, drop_last=True)\n",
    "    \n",
    "    EPOCHS = 101\n",
    "    learning_rate = 0.1\n",
    "    optimizer = torch.optim.SGD(model.parameters(), lr = learning_rate)\n",
    "    early_stopping = EarlyStopping(patience=4, verbose=True, path='/content/.checkpoints/model_checkpoint.pt')\n",
    "    \n",
    "    model = EncoderWithSoftmax(pretrained_autoencoder).to(device)\n",
    "    \n",
    "    for epoch in range(1,EPOCHS):\n",
    "        train_loss = 0\n",
    "\n",
    "        for x_train, y_train in train_loader:\n",
    "            x_train, y_train = x_train.to(device), y_train.to(device)\n",
    "            loss = train(model, x_train, y_train)\n",
    "            train_loss += loss\n",
    "\n",
    "        train_loss /= len(train_loader)                    # we divide by the number of batches\n",
    "        train_losses.append(train_loss)\n",
    "\n",
    "    ## TEST STEP\n",
    "\n",
    "        if epoch % 100 == 0:\n",
    "            train_acc, test_acc = evaluate(model, train_loader, test_loader)\n",
    "            train_accuracies.append(train_acc)\n",
    "            test_accuracies.append(test_acc)\n",
    "            print(\"Epoch:\", epoch, \"Loss:\", float(train_loss), \"data:\", len(dataset_train.data), \"train_acc\", train_acc, \"test_acc\", test_acc)\n",
    "\n",
    "        if early_stopping.early_stop:\n",
    "            train_acc, test_acc = evaluate(model, train_loader, test_loader)\n",
    "            train_accuracies.append(train_acc)\n",
    "            test_accuracies.append(test_acc)\n",
    "            print(\"Early stopping triggered.\")\n",
    "            break"
   ]
  },
  {
   "cell_type": "code",
   "execution_count": 40,
   "metadata": {},
   "outputs": [
    {
     "data": {
      "text/plain": [
       "11"
      ]
     },
     "execution_count": 40,
     "metadata": {},
     "output_type": "execute_result"
    }
   ],
   "source": [
    "len(test_accuracies)"
   ]
  },
  {
   "cell_type": "code",
   "execution_count": 41,
   "metadata": {
    "id": "rxFjGFZC3Wm-"
   },
   "outputs": [
    {
     "data": {
      "image/png": "[encoded data removed]",
      "text/plain": [
       "<Figure size 432x288 with 1 Axes>"
      ]
     },
     "metadata": {
      "needs_background": "light"
     },
     "output_type": "display_data"
    }
   ],
   "source": [
    "data = [n_train * i/ratio for i in range(1, ratio)]\n",
    "\n",
    "plt.plot(data, train_accuracies, label = \"Train\")\n",
    "plt.plot(data, test_accuracies, label = \"Test\")\n",
    "\n",
    "plt.xlabel(\"Data\")\n",
    "plt.ylabel(\"Accuracy\")\n",
    "\n",
    "\n",
    "plt.legend()\n",
    "\n",
    "plt.show()"
   ]
  },
  {
   "cell_type": "code",
   "execution_count": 42,
   "metadata": {
    "colab": {
     "base_uri": "https://localhost:8080/"
    },
    "id": "9_shGteuw8Ky",
    "outputId": "e917013c-b3dd-4022-bca0-2db62c9bb7af"
   },
   "outputs": [
    {
     "name": "stdout",
     "output_type": "stream",
     "text": [
      "Epoch: 0 Loss: 2.287373579465426 train_acc: 20.74359357357025 test_acc: 22.050000727176666\n",
      "Epoch: 10 Loss: 2.211209398049575 train_acc: 22.66666740179062 test_acc: 26.499998569488525\n",
      "Epoch: 20 Loss: 2.203015547532302 train_acc: 24.294868111610413 test_acc: 28.999999165534973\n",
      "Epoch: 30 Loss: 2.197794978435223 train_acc: 24.294869601726532 test_acc: 29.44999933242798\n",
      "Epoch: 40 Loss: 2.1960428861471324 train_acc: 24.435895681381226 test_acc: 29.55000102519989\n",
      "Epoch: 50 Loss: 2.194556327966543 train_acc: 24.57691878080368 test_acc: 29.55000102519989\n",
      "Epoch: 60 Loss: 2.19280822460468 train_acc: 24.60256516933441 test_acc: 29.55000102519989\n",
      "Epoch: 70 Loss: 2.192529348226694 train_acc: 24.61538463830948 test_acc: 29.899999499320984\n",
      "Epoch: 80 Loss: 2.1907147077413707 train_acc: 24.794872105121613 test_acc: 29.6999990940094\n",
      "Epoch: 90 Loss: 2.1909965643515954 train_acc: 25.051280856132507 test_acc: 30.09999990463257\n"
     ]
    }
   ],
   "source": [
    "n_train = 8000\n",
    "n_test = 2000\n",
    "\n",
    "batch_size_train = 300\n",
    "batch_size_test = n_test\n",
    "\n",
    "dataset_train.data, dataset_train.targets = dataset.data[:n_train], dataset.targets[:n_train]\n",
    "train_loader = torch.utils.data.DataLoader(dataset_train, batch_size = batch_size_train, shuffle = True,  drop_last = True)\n",
    "\n",
    "EPOCHS = 100\n",
    "\n",
    "train_losses = []\n",
    "train_accuracies = []\n",
    "test_accuracies = []\n",
    "\n",
    "learning_rate = 0.1\n",
    "optimizer = torch.optim.SGD(model.parameters(), lr = learning_rate)\n",
    "\n",
    "for epoch in range(EPOCHS):\n",
    "\n",
    "    train_loss = 0\n",
    "\n",
    "  ## TRAIN STEP\n",
    "\n",
    "    for x_train, y_train in train_loader:\n",
    "\n",
    "        x_train, y_train = x_train.to(device), y_train.to(device)\n",
    "        loss = train(model, x_train, y_train)\n",
    "        train_loss += loss\n",
    "\n",
    "    train_loss /= len(train_loader)                    # we divide by the number of batches\n",
    "    train_losses.append(train_loss)\n",
    "\n",
    "  ## TEST STEP\n",
    "\n",
    "    if epoch % 10 == 0:\n",
    "\n",
    "        train_acc, test_acc = evaluate(model, train_loader, test_loader)\n",
    "        train_accuracies.append(train_acc)\n",
    "        test_accuracies.append(test_acc)\n",
    "\n",
    "        print(\"Epoch:\", epoch, \"Loss:\", float(train_loss), \"train_acc:\", train_acc, \"test_acc:\", test_acc)\n"
   ]
  },
  {
   "cell_type": "code",
   "execution_count": 43,
   "metadata": {
    "colab": {
     "base_uri": "https://localhost:8080/",
     "height": 449
    },
    "id": "7Jpmuuflxacn",
    "outputId": "01c8e51f-a3c5-4012-9fd5-4a12055a0e2d"
   },
   "outputs": [
    {
     "data": {
      "image/png": "[encoded data removed]",
      "text/plain": [
       "<Figure size 432x288 with 1 Axes>"
      ]
     },
     "metadata": {
      "needs_background": "light"
     },
     "output_type": "display_data"
    }
   ],
   "source": [
    "epochs = [i*10 for i in range(EPOCHS//10)]\n",
    "\n",
    "plt.plot(epochs, train_accuracies, label = \"Train\")\n",
    "plt.plot(epochs, test_accuracies, label = \"Test\")\n",
    "\n",
    "plt.xlabel(\"Epochs\")\n",
    "plt.ylabel(\"Accuracy\")\n",
    "\n",
    "\n",
    "plt.legend()\n",
    "\n",
    "plt.show()"
   ]
  },
  {
   "cell_type": "code",
   "execution_count": null,
   "metadata": {},
   "outputs": [],
   "source": []
  }
 ],
 "metadata": {
  "accelerator": "GPU",
  "colab": {
   "gpuType": "T4",
   "provenance": []
  },
  "kernelspec": {
   "display_name": "Python 3 (ipykernel)",
   "language": "python",
   "name": "python3"
  },
  "language_info": {
   "codemirror_mode": {
    "name": "ipython",
    "version": 3
   },
   "file_extension": ".py",
   "mimetype": "text/x-python",
   "name": "python",
   "nbconvert_exporter": "python",
   "pygments_lexer": "ipython3",
   "version": "3.9.7"
  }
 },
 "nbformat": 4,
 "nbformat_minor": 1
}
