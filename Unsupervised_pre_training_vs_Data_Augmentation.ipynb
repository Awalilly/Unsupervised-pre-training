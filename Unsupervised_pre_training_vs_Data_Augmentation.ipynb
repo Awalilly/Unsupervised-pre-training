{
 "cells": [
  {
   "cell_type": "markdown",
   "metadata": {
    "id": "n2TYIftliqUB"
   },
   "source": [
    "#**Unsupervised pre-training vs Data Augmentation**"
   ]
  },
  {
   "cell_type": "markdown",
   "metadata": {
    "id": "D48pgzTmjBVV"
   },
   "source": [
    "*Students:* --Valentina Barletta (Deep Learning) valentina.barletta@edu.unito.it --Sara De Benedetti (Reti Neurali) sara.debenedetti493@edu.unito.it"
   ]
  },
  {
   "cell_type": "code",
   "execution_count": 2,
   "metadata": {
    "id": "PF8bMBu7iZZK"
   },
   "outputs": [],
   "source": [
    "import torch\n",
    "from torch import nn\n",
    "from torch import optim\n",
    "import matplotlib.pyplot as plt\n",
    "import matplotlib.ticker as mtick\n",
    "import torchvision"
   ]
  },
  {
   "cell_type": "code",
   "execution_count": null,
   "metadata": {
    "colab": {
     "base_uri": "https://localhost:8080/"
    },
    "id": "1-7m_spxIFDt",
    "outputId": "d5eb8e10-f762-42eb-e52f-ae3ec9c2ac6e"
   },
   "outputs": [
    {
     "name": "stdout",
     "output_type": "stream",
     "text": [
      "cuda:0\n"
     ]
    }
   ],
   "source": [
    "device = torch.device(\"cuda:0\" if torch.cuda.is_available() else \"cpu\")\n",
    "\n",
    "print(device)                                        # Check which device we got"
   ]
  },
  {
   "cell_type": "code",
   "execution_count": null,
   "metadata": {
    "id": "OAI7nqCWjlbK"
   },
   "outputs": [],
   "source": [
    "batch_size_train = 128\n",
    "batch_size_test = 500\n",
    "\n",
    "n_train = 2000\n",
    "n_test = 500\n",
    "\n",
    "transform = torchvision.transforms.Compose([\n",
    "                               torchvision.transforms.ToTensor(),\n",
    "                               torchvision.transforms.Normalize(\n",
    "                                 (0.1307,), (0.3081,))\n",
    "                             ])\n",
    "\n",
    "## TRAIN SET\n",
    "\n",
    "dataset_train = torchvision.datasets.MNIST('./files/', train=True, download=True,\n",
    "                             transform=transform)\n",
    "\n",
    "\n",
    "dataset_train.data, dataset_train.targets = dataset_train.data[:n_train], dataset_train.targets[:n_train]\n",
    "\n",
    "train_loader = torch.utils.data.DataLoader(dataset_train, batch_size = batch_size_train,\n",
    "                                            shuffle = True,  drop_last = True)\n",
    "\n",
    "## TEST SET\n",
    "\n",
    "dataset_test =  torchvision.datasets.MNIST('./files/', train=False, download=True,\n",
    "                             transform=transform)\n",
    "\n",
    "dataset_test.data, dataset_test.targets = dataset_test.data[:n_test], dataset_test.targets[:n_test]\n",
    "\n",
    "test_loader = torch.utils.data.DataLoader(dataset_test, batch_size = batch_size_test, shuffle = False)\n",
    "\n"
   ]
  },
  {
   "cell_type": "code",
   "execution_count": null,
   "metadata": {
    "id": "VmMRzCTFkBVi"
   },
   "outputs": [],
   "source": [
    "input_dim = 28*28\n",
    "hidden_dim = 10\n",
    "out_dim = 10\n",
    "\n",
    "\n",
    "class ConvolutionalNetwork(nn.Module):\n",
    "\n",
    "  def __init__(self, input_dim, out_dim):\n",
    "\n",
    "    super(ConvolutionalNetwork, self).__init__()\n",
    "\n",
    "    self.conv = nn.Conv2d(in_channels = 1, out_channels = 1, kernel_size = (3,3), stride = 1, padding  =1)     # <-- new layer\n",
    "    self.act = nn.ReLU()\n",
    "\n",
    "    self.flatten = nn.Flatten(1, 3)\n",
    "\n",
    "    self.linear_layer = nn.Linear(input_dim, out_dim)                                                    # <-- we selected kernel size to have the same number of outputs\n",
    "                                                                                                         #     after convolutional network\n",
    "    self.soft = nn.Softmax(dim=1)\n",
    "\n",
    "  def forward(self, x):\n",
    "\n",
    "    x = self.conv(x)\n",
    "    x = self.act(x)\n",
    "\n",
    "    x = self.flatten(x)\n",
    "    x = self.linear_layer(x)\n",
    "\n",
    "    x = self.soft(x)\n",
    "\n",
    "    return x\n"
   ]
  },
  {
   "cell_type": "code",
   "execution_count": null,
   "metadata": {
    "id": "QfP0tTeQk1Qz"
   },
   "outputs": [],
   "source": [
    "model = ConvolutionalNetwork(input_dim, out_dim).to(device)\n",
    "\n",
    "if device.type != \"cpu\":\n",
    "  model = torch.compile(model)\n",
    "else:\n",
    "  model = torch.compile(model, mode = \"max-autotune-no-cudagraphs\", dynamic=True)\n",
    "\n",
    "loss_function = nn.CrossEntropyLoss()"
   ]
  },
  {
   "cell_type": "code",
   "execution_count": null,
   "metadata": {
    "id": "ZsRl7ycukXvR"
   },
   "outputs": [],
   "source": [
    "def accuracy(y_pred, y):\n",
    "\n",
    "  pred = y_pred.detach().argmax(dim=1)\n",
    "  corrects = (pred == y)\n",
    "\n",
    "  accuracy = (corrects.sum()/corrects.size(0)).float()\n",
    "\n",
    "  return accuracy\n",
    "\n",
    "def evaluate(model, train_loader, test_loader):\n",
    "\n",
    "  # initialize the accuracy as 0\n",
    "\n",
    "  acc_train, acc_test = 0, 0\n",
    "\n",
    "  with torch.no_grad():\n",
    "\n",
    "    for x_train, y_train in train_loader:\n",
    "\n",
    "      x_train, y_train = x_train.to(device), y_train.to(device)        # remember that we need to load our data into the GPUs\n",
    "\n",
    "      out = model(x_train).squeeze()\n",
    "      acc_train += accuracy(out, y_train)\n",
    "\n",
    "    for x_test, y_test in test_loader:\n",
    "\n",
    "      x_test, y_test = x_test.to(device), y_test.to(device)\n",
    "\n",
    "      out = model(x_test).squeeze()\n",
    "      acc_test += accuracy(out, y_test)\n",
    "\n",
    "    acc_train, acc_test = acc_train / len(train_loader), acc_test / len(test_loader)\n",
    "\n",
    "  return float(acc_train.detach()) * 100, float(acc_test.detach()) * 100\n",
    "\n",
    "def train(model, x, y):\n",
    "\n",
    "  out = model(x)\n",
    "  loss = loss_function(out.squeeze(), y)\n",
    "\n",
    "  optimizer.zero_grad()\n",
    "  loss.backward()\n",
    "\n",
    "  optimizer.step()\n",
    "  return float(loss)\n",
    "\n",
    "if device.type != \"cpu\":\n",
    "  accuracy = torch.compile(accuracy)\n",
    "  train = torch.compile(train)\n",
    "else:\n",
    "  accuracy = torch.compile(accuracy, mode = \"max-autotune-no-cudagraphs\", dynamic=True)\n",
    "  train = torch.compile(train, mode = \"max-autotune-no-cudagraphs\", dynamic=True)\n"
   ]
  },
  {
   "cell_type": "code",
   "execution_count": null,
   "metadata": {
    "colab": {
     "base_uri": "https://localhost:8080/"
    },
    "id": "w4HAy1RPkgp-",
    "outputId": "18b32037-77dd-44db-db2f-9addc596dcbd"
   },
   "outputs": [
    {
     "name": "stderr",
     "output_type": "stream",
     "text": [
      "W0524 13:33:43.528000 131999718461440 torch/_logging/_internal.py:1013] [2/0] Profiler function <class 'torch.autograd.profiler.record_function'> will be ignored\n"
     ]
    },
    {
     "name": "stdout",
     "output_type": "stream",
     "text": [
      "Epoch: 0 Loss: 2.3023877143859863\n",
      "Epoch: 10 Loss: 1.6530383984247843\n",
      "Epoch: 20 Loss: 1.552112587292989\n",
      "Epoch: 30 Loss: 1.5196398814519247\n",
      "Epoch: 40 Loss: 1.5093586365381877\n",
      "Epoch: 50 Loss: 1.5038091739018757\n",
      "Epoch: 60 Loss: 1.4996153593063355\n",
      "Epoch: 70 Loss: 1.4988478342692058\n",
      "Epoch: 80 Loss: 1.49616383711497\n",
      "Epoch: 90 Loss: 1.4957977930704753\n"
     ]
    }
   ],
   "source": [
    "EPOCHS = 100\n",
    "\n",
    "train_losses = []\n",
    "train_accuracies = []\n",
    "test_accuracies = []\n",
    "\n",
    "learning_rate = 0.1\n",
    "optimizer = torch.optim.SGD(model.parameters(), lr = learning_rate)\n",
    "\n",
    "for epoch in range(EPOCHS):\n",
    "\n",
    "  train_loss = 0\n",
    "\n",
    "  ## TRAIN STEP\n",
    "\n",
    "  for x_train, y_train in train_loader:\n",
    "\n",
    "    x_train, y_train = x_train.to(device), y_train.to(device)\n",
    "\n",
    "\n",
    "    loss = train(model, x_train, y_train)\n",
    "\n",
    "    train_loss += loss\n",
    "\n",
    "  train_loss /= len(train_loader)                    # we divide by the number of batches\n",
    "  train_losses.append(train_loss)\n",
    "\n",
    "  ## TEST STEP\n",
    "\n",
    "  if epoch % 10 == 0:\n",
    "\n",
    "    train_acc, test_acc = evaluate(model, train_loader, test_loader)\n",
    "\n",
    "    train_accuracies.append(train_acc)\n",
    "    test_accuracies.append(test_acc)\n",
    "\n",
    "    print(\"Epoch:\", epoch, \"Loss:\", float(train_loss))\n"
   ]
  },
  {
   "cell_type": "code",
   "execution_count": null,
   "metadata": {
    "colab": {
     "base_uri": "https://localhost:8080/",
     "height": 451
    },
    "id": "ttBZzK18knCg",
    "outputId": "d1e3bb85-00c2-4394-8629-508603cb626a"
   },
   "outputs": [
    {
     "data": {
      "image/png": "[encoded data removed]",
      "text/plain": [
       "<Figure size 640x480 with 1 Axes>"
      ]
     },
     "metadata": {},
     "output_type": "display_data"
    }
   ],
   "source": [
    "epochs = [i*10 for i in range(EPOCHS//10)]\n",
    "\n",
    "plt.plot(epochs, train_accuracies, label = \"Train\")\n",
    "plt.plot(epochs, test_accuracies, label = \"Test\")\n",
    "\n",
    "plt.xlabel(\"Epochs\")\n",
    "plt.ylabel(\"Accuracy\")\n",
    "\n",
    "\n",
    "plt.legend()\n",
    "\n",
    "plt.show()"
   ]
  },
  {
   "cell_type": "markdown",
   "metadata": {
    "id": "KCiFUsPQaQsG"
   },
   "source": [
    "**Autoencoder**"
   ]
  },
  {
   "cell_type": "code",
   "execution_count": 3,
   "metadata": {
    "id": "kRm7gGTnHCCY"
   },
   "outputs": [],
   "source": [
    "import torch\n",
    "import torch.nn as nn\n",
    "import torch.optim as optim\n",
    "import torchvision.datasets as datasets\n",
    "import torchvision"
   ]
  },
  {
   "cell_type": "code",
   "execution_count": 4,
   "metadata": {
    "colab": {
     "base_uri": "https://localhost:8080/"
    },
    "id": "CNwKY3c6HM6q",
    "outputId": "4b31a34f-a098-4613-cd1b-56b026104768"
   },
   "outputs": [
    {
     "name": "stdout",
     "output_type": "stream",
     "text": [
      "cpu\n"
     ]
    }
   ],
   "source": [
    "device = torch.device(\"cuda:0\" if torch.cuda.is_available() else \"cpu\")\n",
    "\n",
    "print(device)                                        # Check which device we got"
   ]
  },
  {
   "cell_type": "code",
   "execution_count": 5,
   "metadata": {
    "id": "RqjAz28W78u2"
   },
   "outputs": [],
   "source": [
    "input_dim = (28 * 28)\n",
    "hidden_dim = 10\n",
    "out_dim = 10\n",
    "\n",
    "MODEL_PATH = \"models/autoencoder/\"\n",
    "\n",
    "class Autoencoder(nn.Module):\n",
    "    def __init__(self, input_dim, out_dim):\n",
    "        super(Autoencoder, self).__init__()\n",
    "\n",
    "        # Encoder\n",
    "        self.encoder = nn.Sequential(nn.Conv2d(in_channels=1, out_channels=8, kernel_size=(3,3), stride=1, padding=1),  # 28 x 28 x 1 -> 28 x 28 x 8\n",
    "                                    nn.ReLU(),\n",
    "                                    nn.MaxPool2d(kernel_size=2, stride=2, padding=0),  # 28 x 28 x 8 -> 14 x 14 x 8\n",
    "                                    nn.Conv2d(8, 4, kernel_size=3, padding=1),  # 14 x 14 x 8 -> 14 x 14 x 4\n",
    "                                    nn.ReLU(),\n",
    "                                    nn.MaxPool2d(kernel_size=2, stride=2, padding=0)) # 14 x 14 x 4 -> 7 x 7 x 4\n",
    "\n",
    "\n",
    "        # Decoder\n",
    "        self.decoder = nn. Sequential(nn.Conv2d(4, 4, kernel_size=3, padding=1),  # 7 x 7 x 4 -> 7 x 7 x 4\n",
    "                                      nn.ReLU(),\n",
    "                                      nn.Upsample(scale_factor=2, mode='nearest'),  # 7 x 7 x 4 -> 14 x 14 x 4\n",
    "                                      nn.Conv2d(4, 8, kernel_size=3, padding=1),  # 14 x 14 x 4 -> 14 x 14 x 8\n",
    "                                      nn.ReLU(),\n",
    "                                      nn.Upsample(scale_factor=2, mode='nearest'),  # 14 x 14 x 8 -> 28 x 28 x 8\n",
    "                                      nn.Conv2d(8, 1, kernel_size=3, padding=1),  # 28 x 28 x 8 -> 28 x 28 x 1\n",
    "                                      nn.Sigmoid())  # Usa Sigmoid per ottenere valori tra 0 e 1\n",
    "\n",
    "    def forward(self, x):\n",
    "        encoded = self.encoder(x)\n",
    "        decoded = self.decoder(encoded)\n",
    "        return decoded\n",
    "\n",
    "\n",
    "model = Autoencoder(input_dim, out_dim).to(device)\n"
   ]
  },
  {
   "cell_type": "code",
   "execution_count": 6,
   "metadata": {
    "colab": {
     "base_uri": "https://localhost:8080/"
    },
    "id": "UJFfOnhQF5UI",
    "outputId": "710a62d3-ca5d-44ce-9f3d-0c9af568afc7"
   },
   "outputs": [
    {
     "name": "stdout",
     "output_type": "stream",
     "text": [
      "Downloading http://yann.lecun.com/exdb/mnist/train-images-idx3-ubyte.gz\n",
      "Failed to download (trying next):\n",
      "HTTP Error 403: Forbidden\n",
      "\n",
      "Downloading https://ossci-datasets.s3.amazonaws.com/mnist/train-images-idx3-ubyte.gz\n",
      "Downloading https://ossci-datasets.s3.amazonaws.com/mnist/train-images-idx3-ubyte.gz to ./files/MNIST\\raw\\train-images-idx3-ubyte.gz\n"
     ]
    },
    {
     "data": {
      "application/vnd.jupyter.widget-view+json": {
       "model_id": "8b3f465df77e4feeab2bc1c01e80ed6f",
       "version_major": 2,
       "version_minor": 0
      },
      "text/plain": [
       "  0%|          | 0/9912422 [00:00<?, ?it/s]"
      ]
     },
     "metadata": {},
     "output_type": "display_data"
    },
    {
     "name": "stdout",
     "output_type": "stream",
     "text": [
      "Extracting ./files/MNIST\\raw\\train-images-idx3-ubyte.gz to ./files/MNIST\\raw\n",
      "\n",
      "Downloading http://yann.lecun.com/exdb/mnist/train-labels-idx1-ubyte.gz\n",
      "Failed to download (trying next):\n",
      "HTTP Error 403: Forbidden\n",
      "\n",
      "Downloading https://ossci-datasets.s3.amazonaws.com/mnist/train-labels-idx1-ubyte.gz\n",
      "Downloading https://ossci-datasets.s3.amazonaws.com/mnist/train-labels-idx1-ubyte.gz to ./files/MNIST\\raw\\train-labels-idx1-ubyte.gz\n"
     ]
    },
    {
     "data": {
      "application/vnd.jupyter.widget-view+json": {
       "model_id": "3a51f9107c214450b147a0197ca0d2dc",
       "version_major": 2,
       "version_minor": 0
      },
      "text/plain": [
       "  0%|          | 0/28881 [00:00<?, ?it/s]"
      ]
     },
     "metadata": {},
     "output_type": "display_data"
    },
    {
     "name": "stdout",
     "output_type": "stream",
     "text": [
      "Extracting ./files/MNIST\\raw\\train-labels-idx1-ubyte.gz to ./files/MNIST\\raw\n",
      "\n",
      "Downloading http://yann.lecun.com/exdb/mnist/t10k-images-idx3-ubyte.gz\n",
      "Failed to download (trying next):\n",
      "HTTP Error 403: Forbidden\n",
      "\n",
      "Downloading https://ossci-datasets.s3.amazonaws.com/mnist/t10k-images-idx3-ubyte.gz\n",
      "Downloading https://ossci-datasets.s3.amazonaws.com/mnist/t10k-images-idx3-ubyte.gz to ./files/MNIST\\raw\\t10k-images-idx3-ubyte.gz\n"
     ]
    },
    {
     "data": {
      "application/vnd.jupyter.widget-view+json": {
       "model_id": "602f7b4d979649f49c59513281204fa5",
       "version_major": 2,
       "version_minor": 0
      },
      "text/plain": [
       "  0%|          | 0/1648877 [00:00<?, ?it/s]"
      ]
     },
     "metadata": {},
     "output_type": "display_data"
    },
    {
     "name": "stdout",
     "output_type": "stream",
     "text": [
      "Extracting ./files/MNIST\\raw\\t10k-images-idx3-ubyte.gz to ./files/MNIST\\raw\n",
      "\n",
      "Downloading http://yann.lecun.com/exdb/mnist/t10k-labels-idx1-ubyte.gz\n",
      "Failed to download (trying next):\n",
      "HTTP Error 403: Forbidden\n",
      "\n",
      "Downloading https://ossci-datasets.s3.amazonaws.com/mnist/t10k-labels-idx1-ubyte.gz\n",
      "Downloading https://ossci-datasets.s3.amazonaws.com/mnist/t10k-labels-idx1-ubyte.gz to ./files/MNIST\\raw\\t10k-labels-idx1-ubyte.gz\n"
     ]
    },
    {
     "data": {
      "application/vnd.jupyter.widget-view+json": {
       "model_id": "a95606da7377495999ad6a62a2e044c8",
       "version_major": 2,
       "version_minor": 0
      },
      "text/plain": [
       "  0%|          | 0/4542 [00:00<?, ?it/s]"
      ]
     },
     "metadata": {},
     "output_type": "display_data"
    },
    {
     "name": "stdout",
     "output_type": "stream",
     "text": [
      "Extracting ./files/MNIST\\raw\\t10k-labels-idx1-ubyte.gz to ./files/MNIST\\raw\n",
      "\n"
     ]
    }
   ],
   "source": [
    "batch_size_train = 100\n",
    "batch_size_test = 500\n",
    "\n",
    "n_train = 60000\n",
    "n_test = 500\n",
    "\n",
    "transform = torchvision.transforms.Compose([\n",
    "                               torchvision.transforms.ToTensor(),\n",
    "                               torchvision.transforms.Normalize(\n",
    "                                 (0.1307,), (0.3081,))\n",
    "                             ])\n",
    "\n",
    "## TRAIN SET\n",
    "\n",
    "dataset_train = torchvision.datasets.MNIST('./files/', train=True, download=True,\n",
    "                             transform=transform)\n",
    "\n",
    "dataset_train.data, dataset_train.targets = dataset_train.data[:n_train], dataset_train.targets[:n_train]\n",
    "\n",
    "train_loader = torch.utils.data.DataLoader(dataset_train, batch_size = batch_size_train,\n",
    "                                            shuffle = True,  drop_last = True)\n",
    "\n",
    "## TEST SET\n",
    "\n",
    "dataset_test =  torchvision.datasets.MNIST('./files/', train=False, download=True,\n",
    "                             transform=transform)\n",
    "\n",
    "dataset_test.data, dataset_test.targets = dataset_test.data[:n_test], dataset_test.targets[:n_test]\n",
    "\n",
    "test_loader = torch.utils.data.DataLoader(dataset_test, batch_size = batch_size_test, shuffle = False)\n"
   ]
  },
  {
   "cell_type": "code",
   "execution_count": 8,
   "metadata": {
    "colab": {
     "base_uri": "https://localhost:8080/"
    },
    "id": "xDZMNLSzD2DS",
    "outputId": "4f340a38-fab9-4556-c947-5e52d26e9394"
   },
   "outputs": [
    {
     "name": "stdout",
     "output_type": "stream",
     "text": [
      "Epoch [1/100], Loss: 0.5034\n",
      "Epoch [6/100], Loss: 0.4804\n",
      "Epoch [11/100], Loss: 0.4860\n",
      "Epoch [16/100], Loss: 0.4966\n",
      "Epoch [21/100], Loss: 0.4785\n",
      "Epoch [26/100], Loss: 0.4810\n",
      "Epoch [31/100], Loss: 0.4842\n",
      "Epoch [36/100], Loss: 0.4844\n",
      "Epoch [41/100], Loss: 0.4876\n",
      "Epoch [46/100], Loss: 0.4959\n",
      "Epoch [51/100], Loss: 0.4894\n",
      "Epoch [56/100], Loss: 0.4848\n",
      "Epoch [61/100], Loss: 0.5021\n",
      "Epoch [66/100], Loss: 0.4790\n",
      "Epoch [71/100], Loss: 0.4750\n",
      "Epoch [76/100], Loss: 0.4916\n",
      "Epoch [81/100], Loss: 0.4872\n",
      "Epoch [86/100], Loss: 0.4748\n",
      "Epoch [91/100], Loss: 0.4679\n",
      "Epoch [96/100], Loss: 0.4619\n"
     ]
    }
   ],
   "source": [
    "criterion = nn.MSELoss()\n",
    "optimizer = optim.Adam(model.parameters(), lr=0.001)\n",
    "EPOCHS = 100\n",
    "\n",
    "for epoch in range(EPOCHS):\n",
    "  train_loss = 0\n",
    "  for data in train_loader:\n",
    "          img, _ = data\n",
    "          img = img.to(device)\n",
    "          optimizer.zero_grad()\n",
    "          output = model(img)\n",
    "          loss = criterion(output, img)\n",
    "          loss.backward()\n",
    "          optimizer.step()\n",
    "  if epoch % 5== 0:\n",
    "    print('Epoch [{}/{}], Loss: {:.4f}'.format(epoch+1, EPOCHS, loss.item()))\n",
    "\n",
    "# Save the model\n",
    "torch.save(model.state_dict(), 'model.pth')"
   ]
  },
  {
   "cell_type": "code",
   "execution_count": 9,
   "metadata": {
    "colab": {
     "base_uri": "https://localhost:8080/",
     "height": 342
    },
    "id": "hz3gALrfKhO1",
    "outputId": "dfc6600e-9732-4693-d5bb-8728453927c4"
   },
   "outputs": [
    {
     "data": {
      "text/plain": [
       "<Figure size 1500x1000 with 0 Axes>"
      ]
     },
     "metadata": {},
     "output_type": "display_data"
    },
    {
     "data": {
      "image/png": "[encoded data removed]",
      "text/plain": [
       "<Figure size 1080x288 with 14 Axes>"
      ]
     },
     "metadata": {
      "needs_background": "light"
     },
     "output_type": "display_data"
    }
   ],
   "source": [
    "with torch.no_grad():\n",
    "    for data, _ in test_loader:\n",
    "        data = data.to(device)\n",
    "        recon = model(data)\n",
    "        break\n",
    "\n",
    "import matplotlib.pyplot as plt\n",
    "plt.figure(dpi=250)\n",
    "fig, ax = plt.subplots(2, 7, figsize=(15, 4))\n",
    "for i in range(7):\n",
    "    ax[0, i].imshow(data[i].cpu().numpy().squeeze(), cmap='gray')\n",
    "    ax[1, i].imshow(recon[i].cpu().numpy().squeeze(), cmap='gray')\n",
    "    ax[0, i].axis('OFF')\n",
    "    ax[1, i].axis('OFF')\n",
    "plt.show()\n"
   ]
  },
  {
   "cell_type": "markdown",
   "metadata": {
    "id": "jGAJKwuaROS3"
   },
   "source": [
    "*Restore model used for unsupervised pre-training*"
   ]
  },
  {
   "cell_type": "code",
   "execution_count": 10,
   "metadata": {
    "id": "eBB8CdvriOMF"
   },
   "outputs": [
    {
     "ename": "AttributeError",
     "evalue": "module 'torch' has no attribute 'compile'",
     "output_type": "error",
     "traceback": [
      "\u001b[1;31m---------------------------------------------------------------------------\u001b[0m",
      "\u001b[1;31mAttributeError\u001b[0m                            Traceback (most recent call last)",
      "\u001b[1;32m~\\AppData\\Local\\Temp/ipykernel_19604/4174968055.py\u001b[0m in \u001b[0;36m<module>\u001b[1;34m\u001b[0m\n\u001b[0;32m     49\u001b[0m   \u001b[0mtrain\u001b[0m \u001b[1;33m=\u001b[0m \u001b[0mtorch\u001b[0m\u001b[1;33m.\u001b[0m\u001b[0mcompile\u001b[0m\u001b[1;33m(\u001b[0m\u001b[0mtrain\u001b[0m\u001b[1;33m)\u001b[0m\u001b[1;33m\u001b[0m\u001b[1;33m\u001b[0m\u001b[0m\n\u001b[0;32m     50\u001b[0m \u001b[1;32melse\u001b[0m\u001b[1;33m:\u001b[0m\u001b[1;33m\u001b[0m\u001b[1;33m\u001b[0m\u001b[0m\n\u001b[1;32m---> 51\u001b[1;33m   \u001b[0maccuracy\u001b[0m \u001b[1;33m=\u001b[0m \u001b[0mtorch\u001b[0m\u001b[1;33m.\u001b[0m\u001b[0mcompile\u001b[0m\u001b[1;33m(\u001b[0m\u001b[0maccuracy\u001b[0m\u001b[1;33m,\u001b[0m \u001b[0mmode\u001b[0m \u001b[1;33m=\u001b[0m \u001b[1;34m\"max-autotune-no-cudagraphs\"\u001b[0m\u001b[1;33m,\u001b[0m \u001b[0mdynamic\u001b[0m\u001b[1;33m=\u001b[0m\u001b[1;32mTrue\u001b[0m\u001b[1;33m)\u001b[0m\u001b[1;33m\u001b[0m\u001b[1;33m\u001b[0m\u001b[0m\n\u001b[0m\u001b[0;32m     52\u001b[0m   \u001b[0mtrain\u001b[0m \u001b[1;33m=\u001b[0m \u001b[0mtorch\u001b[0m\u001b[1;33m.\u001b[0m\u001b[0mcompile\u001b[0m\u001b[1;33m(\u001b[0m\u001b[0mtrain\u001b[0m\u001b[1;33m,\u001b[0m \u001b[0mmode\u001b[0m \u001b[1;33m=\u001b[0m \u001b[1;34m\"max-autotune-no-cudagraphs\"\u001b[0m\u001b[1;33m,\u001b[0m \u001b[0mdynamic\u001b[0m\u001b[1;33m=\u001b[0m\u001b[1;32mTrue\u001b[0m\u001b[1;33m)\u001b[0m\u001b[1;33m\u001b[0m\u001b[1;33m\u001b[0m\u001b[0m\n",
      "\u001b[1;31mAttributeError\u001b[0m: module 'torch' has no attribute 'compile'"
     ]
    }
   ],
   "source": [
    "def accuracy(y_pred, y):\n",
    "\n",
    "  pred = y_pred.detach().argmax(dim=1)\n",
    "  corrects = (pred == y)\n",
    "\n",
    "  accuracy = (corrects.sum()/corrects.size(0)).float()\n",
    "\n",
    "  return accuracy\n",
    "\n",
    "def evaluate(model, train_loader, test_loader):\n",
    "\n",
    "  # initialize the accuracy as 0\n",
    "\n",
    "  acc_train, acc_test = 0, 0\n",
    "\n",
    "  with torch.no_grad():\n",
    "\n",
    "    for x_train, y_train in train_loader:\n",
    "\n",
    "      x_train, y_train = x_train.to(device), y_train.to(device)        # remember that we need to load our data into the GPUs\n",
    "\n",
    "      out = model(x_train).squeeze()\n",
    "      acc_train += accuracy(out, y_train)\n",
    "\n",
    "    for x_test, y_test in test_loader:\n",
    "\n",
    "      x_test, y_test = x_test.to(device), y_test.to(device)\n",
    "\n",
    "      out = model(x_test).squeeze()\n",
    "      acc_test += accuracy(out, y_test)\n",
    "\n",
    "    acc_train, acc_test = acc_train / len(train_loader), acc_test / len(test_loader)\n",
    "\n",
    "  return float(acc_train.detach()) * 100, float(acc_test.detach()) * 100\n",
    "\n",
    "def train(model, x, y):\n",
    "\n",
    "  out = model(x)\n",
    "  loss = loss_function(out.squeeze(), y)\n",
    "\n",
    "  optimizer.zero_grad()\n",
    "  loss.backward()\n",
    "\n",
    "  optimizer.step()\n",
    "  return float(loss)\n",
    "\n",
    "if device.type != \"cpu\":\n",
    "  accuracy = torch.compile(accuracy)\n",
    "  train = torch.compile(train)\n",
    "else:\n",
    "  accuracy = torch.compile(accuracy, mode = \"max-autotune-no-cudagraphs\", dynamic=True)\n",
    "  train = torch.compile(train, mode = \"max-autotune-no-cudagraphs\", dynamic=True)\n"
   ]
  },
  {
   "cell_type": "code",
   "execution_count": null,
   "metadata": {
    "colab": {
     "base_uri": "https://localhost:8080/",
     "height": 176
    },
    "id": "HfFa2l7VKh1Q",
    "outputId": "2ea353cb-0108-4352-a785-dba595919ed6"
   },
   "outputs": [],
   "source": [
    "pretrained_autoencoder = model\n",
    "pretrained_autoencoder.load_state_dict(torch.load('model.pth'))\n",
    "# pretrained_autoencoder.eval()"
   ]
  },
  {
   "cell_type": "code",
   "execution_count": null,
   "metadata": {
    "colab": {
     "base_uri": "https://localhost:8080/"
    },
    "id": "qAU1WDLVRNw_",
    "outputId": "ca4f6934-b80e-4419-aaf8-9d4eec9e99ca"
   },
   "outputs": [],
   "source": [
    "from torchsummary import summary\n",
    "\n",
    "# Usare la funzione summary per visualizzare un riassunto del modello\n",
    "summary(pretrained_autoencoder, input_size=(1, 28, 28))\n"
   ]
  },
  {
   "cell_type": "code",
   "execution_count": null,
   "metadata": {
    "id": "4cpYmPjrwLpb"
   },
   "outputs": [],
   "source": [
    "class EncoderWithSoftmax(nn.Module):\n",
    "    def __init__(self, pretrained_autoencoder):\n",
    "        super(EncoderWithSoftmax, self).__init__()\n",
    "\n",
    "        # Estraggo l'encoder dal modello preaddestrato\n",
    "        self.encoder = pretrained_autoencoder.encoder\n",
    "\n",
    "        # Calcola la dimensione dell'output flatten\n",
    "        self.encoder_output_dim = self._get_encoder_output_dim()\n",
    "        flattened_dim = self.encoder_output_dim[1] * self.encoder_output_dim[2] * self.encoder_output_dim[3]\n",
    "\n",
    "        # Applico il softmax come ultimo layer\n",
    "        self.encoder_with_softmax = nn.Sequential(\n",
    "            nn.Flatten(),\n",
    "            nn.Linear(in_features=flattened_dim, out_features=10),\n",
    "            nn.Softmax(dim=1)  # Applica softmax lungo la dimensione 1\n",
    "        )\n",
    "\n",
    "    def _get_encoder_output_dim(self):\n",
    "        with torch.no_grad():\n",
    "            # Crea un input fittizio con la dimensione del batch e canali appropriati\n",
    "            dummy_input = torch.randn(1, 1, 28, 28).to(next(self.encoder.parameters()).device)  # Batch size di 1, 1 canale, 28x28 dimensione dell'immagine\n",
    "            output = self.encoder(dummy_input)\n",
    "        return output.shape\n",
    "\n",
    "    def forward(self, x):\n",
    "        x = self.encoder(x)\n",
    "        x = self.encoder_with_softmax(x)\n",
    "        return x\n",
    "\n",
    "# Supponiamo di avere un autoencoder preaddestrato chiamato pretrained_autoencoder\n",
    "pretrained_autoencoder = Autoencoder(input_dim, out_dim).to(device)\n",
    "\n",
    "model = EncoderWithSoftmax(pretrained_autoencoder).to(device)\n",
    "loss_function = nn.CrossEntropyLoss()\n"
   ]
  },
  {
   "cell_type": "code",
   "execution_count": null,
   "metadata": {
    "colab": {
     "base_uri": "https://localhost:8080/"
    },
    "id": "e8Tw8V1rg60n",
    "outputId": "b0dce743-de1e-448b-a116-ff37ad9533d2"
   },
   "outputs": [],
   "source": [
    "EPOCHS = 100\n",
    "\n",
    "train_losses = []\n",
    "train_accuracies = []\n",
    "test_accuracies = []\n",
    "\n",
    "learning_rate = 0.1\n",
    "optimizer = torch.optim.SGD(model.parameters(), lr = learning_rate)\n",
    "\n",
    "for epoch in range(EPOCHS):\n",
    "\n",
    "  train_loss = 0\n",
    "\n",
    "  ## TRAIN STEP\n",
    "\n",
    "  for x_train, y_train in train_loader:\n",
    "\n",
    "    x_train, y_train = x_train.to(device), y_train.to(device)\n",
    "    loss = train(model, x_train, y_train)\n",
    "    train_loss += loss\n",
    "\n",
    "  train_loss /= len(train_loader)                    # we divide by the number of batches\n",
    "  train_losses.append(train_loss)\n",
    "\n",
    "  ## TEST STEP\n",
    "\n",
    "  if epoch % 10 == 0:\n",
    "\n",
    "    train_acc, test_acc = evaluate(model, train_loader, test_loader)\n",
    "    train_accuracies.append(train_acc)\n",
    "    test_accuracies.append(test_acc)\n",
    "\n",
    "    print(\"Epoch:\", epoch, \"Loss:\", float(train_loss))\n"
   ]
  },
  {
   "cell_type": "code",
   "execution_count": null,
   "metadata": {
    "colab": {
     "base_uri": "https://localhost:8080/",
     "height": 451
    },
    "id": "K1EqEHo9hfgL",
    "outputId": "4e12571b-621e-460f-fd13-8e972b0af889"
   },
   "outputs": [],
   "source": [
    "epochs = [i*10 for i in range(EPOCHS//10)]\n",
    "\n",
    "plt.plot(epochs, train_accuracies, label = \"Train\")\n",
    "plt.plot(epochs, test_accuracies, label = \"Test\")\n",
    "\n",
    "plt.xlabel(\"Epochs\")\n",
    "plt.ylabel(\"Accuracy\")\n",
    "\n",
    "\n",
    "plt.legend()\n",
    "\n",
    "plt.show()"
   ]
  },
  {
   "cell_type": "code",
   "execution_count": null,
   "metadata": {
    "id": "KpVT9UINhthp"
   },
   "outputs": [],
   "source": []
  },
  {
   "cell_type": "code",
   "execution_count": null,
   "metadata": {},
   "outputs": [],
   "source": []
  }
 ],
 "metadata": {
  "accelerator": "GPU",
  "colab": {
   "gpuType": "T4",
   "provenance": []
  },
  "kernelspec": {
   "display_name": "Python 3 (ipykernel)",
   "language": "python",
   "name": "python3"
  },
  "language_info": {
   "codemirror_mode": {
    "name": "ipython",
    "version": 3
   },
   "file_extension": ".py",
   "mimetype": "text/x-python",
   "name": "python",
   "nbconvert_exporter": "python",
   "pygments_lexer": "ipython3",
   "version": "3.9.7"
  }
 },
 "nbformat": 4,
 "nbformat_minor": 1
}
